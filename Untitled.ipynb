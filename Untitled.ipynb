{
 "cells": [
  {
   "cell_type": "markdown",
   "metadata": {},
   "source": [
    "# Project Euler\n",
    "\n",
    "## What is Project Euler?\n",
    "Project Euler is a series of challenging mathematical/computer programming problems that will require more than just mathematical insights to solve. Although mathematics will help you arrive at elegant and efficient methods, the use of a computer and programming skills will be required to solve most problems.\n",
    "https://projecteuler.net/about\n",
    "\n",
    "Here I'm trying to solve the 4th problem in the archives. The problem is:\n",
    "\n",
    "\"A palindromic number reads the same both ways. The largest palindrome made from the product of two 2-digit numbers is 9009 = 91 × 99. Find the largest palindrome made from the product of two 3-digit numbers.\""
   ]
  },
  {
   "cell_type": "markdown",
   "metadata": {},
   "source": [
    "## The code\n",
    "Let's divide this problem. First of all let's define a function to check if a number is palindrome. This is easy to do with lists and slicing."
   ]
  },
  {
   "cell_type": "code",
   "execution_count": 5,
   "metadata": {},
   "outputs": [],
   "source": [
    "def isPalindrome(input):\n",
    "    return input[::-1] == input"
   ]
  },
  {
   "cell_type": "markdown",
   "metadata": {},
   "source": [
    "Maybe the first approach to this problem is a brute-force algorithm. We know this is not the best solution, but let's do it to generate all the results and try to see a pattern to make a better algorithm later"
   ]
  },
  {
   "cell_type": "code",
   "execution_count": 26,
   "metadata": {},
   "outputs": [
    {
     "name": "stdout",
     "output_type": "stream",
     "text": [
      "Length of productsList: 10000\n"
     ]
    }
   ],
   "source": [
    "productsList = []\n",
    "for i in range(100):\n",
    "    for j in range(100):\n",
    "        productsList.append(i * j)\n",
    "\n",
    "print(\"Length of productsList:\", len(productsList))"
   ]
  },
  {
   "cell_type": "markdown",
   "metadata": {},
   "source": [
    "Well, the output list grows in a exponential rate of the input (n ^ 2). A first improvement we can make is just append to output if the number is palindrome. And then let's check the length of output."
   ]
  },
  {
   "cell_type": "code",
   "execution_count": 34,
   "metadata": {},
   "outputs": [
    {
     "name": "stdout",
     "output_type": "stream",
     "text": [
      "Length of productsList: 575\n"
     ]
    }
   ],
   "source": [
    "productsList = []\n",
    "for i in range(100):\n",
    "    for j in range(100):\n",
    "        product = i * j\n",
    "        if isPalindrome(str(product)):\n",
    "            productsList.append(product)\n",
    "            \n",
    "print(\"Length of productsList:\", len(productsList))"
   ]
  },
  {
   "cell_type": "markdown",
   "metadata": {},
   "source": [
    "This change reduced the size of output in a significant way. So now, let's find the largest palindrome made with two 2-digit numbers, as the example in the problem specification (it needs to be 9009, the product of 99 x 91)."
   ]
  },
  {
   "cell_type": "code",
   "execution_count": 36,
   "metadata": {},
   "outputs": [
    {
     "name": "stdout",
     "output_type": "stream",
     "text": [
      "The largest palindrome made from the product of two 2-digit numbers is: 9009\n"
     ]
    }
   ],
   "source": [
    "largestPalindrome = sorted(productsList, reverse=True)[0]\n",
    "print(\"The largest palindrome made from the product of two 2-digit numbers is:\", largestPalindrome)"
   ]
  },
  {
   "cell_type": "markdown",
   "metadata": {},
   "source": [
    "This is not a hard task to Python, but how can we improve our solution?"
   ]
  },
  {
   "cell_type": "markdown",
   "metadata": {},
   "source": [
    "## Analyzing"
   ]
  },
  {
   "cell_type": "markdown",
   "metadata": {},
   "source": [
    "We don't need to generate all the products between two digits numbers, since we know that in the lower values the products are going to be low too. \n",
    "\n",
    "So let's start with the highest possible value: 99 x 99. Then, 99 x 98. But now, what's the next product? It's the product between 99 x 97 or 98 x 98. And the next? And so go on. We need to find a way to define the sequence of multiplications that will generate a descending sequence of products.\n",
    "\n",
    "Let's make an example and take some numbers to test."
   ]
  },
  {
   "cell_type": "code",
   "execution_count": 128,
   "metadata": {},
   "outputs": [
    {
     "data": {
      "text/html": [
       "<div>\n",
       "<style scoped>\n",
       "    .dataframe tbody tr th:only-of-type {\n",
       "        vertical-align: middle;\n",
       "    }\n",
       "\n",
       "    .dataframe tbody tr th {\n",
       "        vertical-align: top;\n",
       "    }\n",
       "\n",
       "    .dataframe thead th {\n",
       "        text-align: right;\n",
       "    }\n",
       "</style>\n",
       "<table border=\"1\" class=\"dataframe\">\n",
       "  <thead>\n",
       "    <tr style=\"text-align: right;\">\n",
       "      <th></th>\n",
       "      <th>99</th>\n",
       "      <th>98</th>\n",
       "      <th>97</th>\n",
       "      <th>96</th>\n",
       "      <th>95</th>\n",
       "      <th>94</th>\n",
       "      <th>93</th>\n",
       "      <th>92</th>\n",
       "      <th>91</th>\n",
       "      <th>90</th>\n",
       "    </tr>\n",
       "  </thead>\n",
       "  <tbody>\n",
       "    <tr>\n",
       "      <th>99</th>\n",
       "      <td>9801</td>\n",
       "      <td>9702</td>\n",
       "      <td>9603</td>\n",
       "      <td>9504</td>\n",
       "      <td>9405</td>\n",
       "      <td>9306</td>\n",
       "      <td>9207</td>\n",
       "      <td>9108</td>\n",
       "      <td>9009</td>\n",
       "      <td>8910</td>\n",
       "    </tr>\n",
       "    <tr>\n",
       "      <th>98</th>\n",
       "      <td>9702</td>\n",
       "      <td>9604</td>\n",
       "      <td>9506</td>\n",
       "      <td>9408</td>\n",
       "      <td>9310</td>\n",
       "      <td>9212</td>\n",
       "      <td>9114</td>\n",
       "      <td>9016</td>\n",
       "      <td>8918</td>\n",
       "      <td>8820</td>\n",
       "    </tr>\n",
       "    <tr>\n",
       "      <th>97</th>\n",
       "      <td>9603</td>\n",
       "      <td>9506</td>\n",
       "      <td>9409</td>\n",
       "      <td>9312</td>\n",
       "      <td>9215</td>\n",
       "      <td>9118</td>\n",
       "      <td>9021</td>\n",
       "      <td>8924</td>\n",
       "      <td>8827</td>\n",
       "      <td>8730</td>\n",
       "    </tr>\n",
       "    <tr>\n",
       "      <th>96</th>\n",
       "      <td>9504</td>\n",
       "      <td>9408</td>\n",
       "      <td>9312</td>\n",
       "      <td>9216</td>\n",
       "      <td>9120</td>\n",
       "      <td>9024</td>\n",
       "      <td>8928</td>\n",
       "      <td>8832</td>\n",
       "      <td>8736</td>\n",
       "      <td>8640</td>\n",
       "    </tr>\n",
       "    <tr>\n",
       "      <th>95</th>\n",
       "      <td>9405</td>\n",
       "      <td>9310</td>\n",
       "      <td>9215</td>\n",
       "      <td>9120</td>\n",
       "      <td>9025</td>\n",
       "      <td>8930</td>\n",
       "      <td>8835</td>\n",
       "      <td>8740</td>\n",
       "      <td>8645</td>\n",
       "      <td>8550</td>\n",
       "    </tr>\n",
       "    <tr>\n",
       "      <th>94</th>\n",
       "      <td>9306</td>\n",
       "      <td>9212</td>\n",
       "      <td>9118</td>\n",
       "      <td>9024</td>\n",
       "      <td>8930</td>\n",
       "      <td>8836</td>\n",
       "      <td>8742</td>\n",
       "      <td>8648</td>\n",
       "      <td>8554</td>\n",
       "      <td>8460</td>\n",
       "    </tr>\n",
       "    <tr>\n",
       "      <th>93</th>\n",
       "      <td>9207</td>\n",
       "      <td>9114</td>\n",
       "      <td>9021</td>\n",
       "      <td>8928</td>\n",
       "      <td>8835</td>\n",
       "      <td>8742</td>\n",
       "      <td>8649</td>\n",
       "      <td>8556</td>\n",
       "      <td>8463</td>\n",
       "      <td>8370</td>\n",
       "    </tr>\n",
       "    <tr>\n",
       "      <th>92</th>\n",
       "      <td>9108</td>\n",
       "      <td>9016</td>\n",
       "      <td>8924</td>\n",
       "      <td>8832</td>\n",
       "      <td>8740</td>\n",
       "      <td>8648</td>\n",
       "      <td>8556</td>\n",
       "      <td>8464</td>\n",
       "      <td>8372</td>\n",
       "      <td>8280</td>\n",
       "    </tr>\n",
       "    <tr>\n",
       "      <th>91</th>\n",
       "      <td>9009</td>\n",
       "      <td>8918</td>\n",
       "      <td>8827</td>\n",
       "      <td>8736</td>\n",
       "      <td>8645</td>\n",
       "      <td>8554</td>\n",
       "      <td>8463</td>\n",
       "      <td>8372</td>\n",
       "      <td>8281</td>\n",
       "      <td>8190</td>\n",
       "    </tr>\n",
       "    <tr>\n",
       "      <th>90</th>\n",
       "      <td>8910</td>\n",
       "      <td>8820</td>\n",
       "      <td>8730</td>\n",
       "      <td>8640</td>\n",
       "      <td>8550</td>\n",
       "      <td>8460</td>\n",
       "      <td>8370</td>\n",
       "      <td>8280</td>\n",
       "      <td>8190</td>\n",
       "      <td>8100</td>\n",
       "    </tr>\n",
       "  </tbody>\n",
       "</table>\n",
       "</div>"
      ],
      "text/plain": [
       "      99    98    97    96    95    94    93    92    91    90\n",
       "99  9801  9702  9603  9504  9405  9306  9207  9108  9009  8910\n",
       "98  9702  9604  9506  9408  9310  9212  9114  9016  8918  8820\n",
       "97  9603  9506  9409  9312  9215  9118  9021  8924  8827  8730\n",
       "96  9504  9408  9312  9216  9120  9024  8928  8832  8736  8640\n",
       "95  9405  9310  9215  9120  9025  8930  8835  8740  8645  8550\n",
       "94  9306  9212  9118  9024  8930  8836  8742  8648  8554  8460\n",
       "93  9207  9114  9021  8928  8835  8742  8649  8556  8463  8370\n",
       "92  9108  9016  8924  8832  8740  8648  8556  8464  8372  8280\n",
       "91  9009  8918  8827  8736  8645  8554  8463  8372  8281  8190\n",
       "90  8910  8820  8730  8640  8550  8460  8370  8280  8190  8100"
      ]
     },
     "execution_count": 128,
     "metadata": {},
     "output_type": "execute_result"
    }
   ],
   "source": [
    "import pandas as pd\n",
    "\n",
    "productsMatrix = []\n",
    "label = [str(x) for x in range(99, 89, -1)]\n",
    "for i in range(99, 89, -1):\n",
    "    innerList = []\n",
    "    for j in range(99, 89, -1):\n",
    "        product = i * j\n",
    "        innerList.append(product)\n",
    "        \n",
    "    productsMatrix.append(innerList)\n",
    "    \n",
    "df = pd.DataFrame(productsMatrix, index=label, columns=label)\n",
    "df"
   ]
  },
  {
   "cell_type": "markdown",
   "metadata": {},
   "source": [
    "Now it's clear! We can see the sequence that generates the products in descending order (99x99, 99x98, 98x98, 99x97...). But how we can translate this to code?\n",
    "\n",
    "Let's just visualize index and columns as it should be: index to access an 2D array (productsMatrix)"
   ]
  },
  {
   "cell_type": "code",
   "execution_count": 62,
   "metadata": {},
   "outputs": [
    {
     "data": {
      "text/html": [
       "<div>\n",
       "<style scoped>\n",
       "    .dataframe tbody tr th:only-of-type {\n",
       "        vertical-align: middle;\n",
       "    }\n",
       "\n",
       "    .dataframe tbody tr th {\n",
       "        vertical-align: top;\n",
       "    }\n",
       "\n",
       "    .dataframe thead th {\n",
       "        text-align: right;\n",
       "    }\n",
       "</style>\n",
       "<table border=\"1\" class=\"dataframe\">\n",
       "  <thead>\n",
       "    <tr style=\"text-align: right;\">\n",
       "      <th></th>\n",
       "      <th>0</th>\n",
       "      <th>1</th>\n",
       "      <th>2</th>\n",
       "      <th>3</th>\n",
       "      <th>4</th>\n",
       "      <th>5</th>\n",
       "      <th>6</th>\n",
       "      <th>7</th>\n",
       "      <th>8</th>\n",
       "      <th>9</th>\n",
       "    </tr>\n",
       "  </thead>\n",
       "  <tbody>\n",
       "    <tr>\n",
       "      <th>0</th>\n",
       "      <td>9801</td>\n",
       "      <td>9702</td>\n",
       "      <td>9603</td>\n",
       "      <td>9504</td>\n",
       "      <td>9405</td>\n",
       "      <td>9306</td>\n",
       "      <td>9207</td>\n",
       "      <td>9108</td>\n",
       "      <td>9009</td>\n",
       "      <td>8910</td>\n",
       "    </tr>\n",
       "    <tr>\n",
       "      <th>1</th>\n",
       "      <td>9702</td>\n",
       "      <td>9604</td>\n",
       "      <td>9506</td>\n",
       "      <td>9408</td>\n",
       "      <td>9310</td>\n",
       "      <td>9212</td>\n",
       "      <td>9114</td>\n",
       "      <td>9016</td>\n",
       "      <td>8918</td>\n",
       "      <td>8820</td>\n",
       "    </tr>\n",
       "    <tr>\n",
       "      <th>2</th>\n",
       "      <td>9603</td>\n",
       "      <td>9506</td>\n",
       "      <td>9409</td>\n",
       "      <td>9312</td>\n",
       "      <td>9215</td>\n",
       "      <td>9118</td>\n",
       "      <td>9021</td>\n",
       "      <td>8924</td>\n",
       "      <td>8827</td>\n",
       "      <td>8730</td>\n",
       "    </tr>\n",
       "    <tr>\n",
       "      <th>3</th>\n",
       "      <td>9504</td>\n",
       "      <td>9408</td>\n",
       "      <td>9312</td>\n",
       "      <td>9216</td>\n",
       "      <td>9120</td>\n",
       "      <td>9024</td>\n",
       "      <td>8928</td>\n",
       "      <td>8832</td>\n",
       "      <td>8736</td>\n",
       "      <td>8640</td>\n",
       "    </tr>\n",
       "    <tr>\n",
       "      <th>4</th>\n",
       "      <td>9405</td>\n",
       "      <td>9310</td>\n",
       "      <td>9215</td>\n",
       "      <td>9120</td>\n",
       "      <td>9025</td>\n",
       "      <td>8930</td>\n",
       "      <td>8835</td>\n",
       "      <td>8740</td>\n",
       "      <td>8645</td>\n",
       "      <td>8550</td>\n",
       "    </tr>\n",
       "    <tr>\n",
       "      <th>5</th>\n",
       "      <td>9306</td>\n",
       "      <td>9212</td>\n",
       "      <td>9118</td>\n",
       "      <td>9024</td>\n",
       "      <td>8930</td>\n",
       "      <td>8836</td>\n",
       "      <td>8742</td>\n",
       "      <td>8648</td>\n",
       "      <td>8554</td>\n",
       "      <td>8460</td>\n",
       "    </tr>\n",
       "    <tr>\n",
       "      <th>6</th>\n",
       "      <td>9207</td>\n",
       "      <td>9114</td>\n",
       "      <td>9021</td>\n",
       "      <td>8928</td>\n",
       "      <td>8835</td>\n",
       "      <td>8742</td>\n",
       "      <td>8649</td>\n",
       "      <td>8556</td>\n",
       "      <td>8463</td>\n",
       "      <td>8370</td>\n",
       "    </tr>\n",
       "    <tr>\n",
       "      <th>7</th>\n",
       "      <td>9108</td>\n",
       "      <td>9016</td>\n",
       "      <td>8924</td>\n",
       "      <td>8832</td>\n",
       "      <td>8740</td>\n",
       "      <td>8648</td>\n",
       "      <td>8556</td>\n",
       "      <td>8464</td>\n",
       "      <td>8372</td>\n",
       "      <td>8280</td>\n",
       "    </tr>\n",
       "    <tr>\n",
       "      <th>8</th>\n",
       "      <td>9009</td>\n",
       "      <td>8918</td>\n",
       "      <td>8827</td>\n",
       "      <td>8736</td>\n",
       "      <td>8645</td>\n",
       "      <td>8554</td>\n",
       "      <td>8463</td>\n",
       "      <td>8372</td>\n",
       "      <td>8281</td>\n",
       "      <td>8190</td>\n",
       "    </tr>\n",
       "    <tr>\n",
       "      <th>9</th>\n",
       "      <td>8910</td>\n",
       "      <td>8820</td>\n",
       "      <td>8730</td>\n",
       "      <td>8640</td>\n",
       "      <td>8550</td>\n",
       "      <td>8460</td>\n",
       "      <td>8370</td>\n",
       "      <td>8280</td>\n",
       "      <td>8190</td>\n",
       "      <td>8100</td>\n",
       "    </tr>\n",
       "  </tbody>\n",
       "</table>\n",
       "</div>"
      ],
      "text/plain": [
       "      0     1     2     3     4     5     6     7     8     9\n",
       "0  9801  9702  9603  9504  9405  9306  9207  9108  9009  8910\n",
       "1  9702  9604  9506  9408  9310  9212  9114  9016  8918  8820\n",
       "2  9603  9506  9409  9312  9215  9118  9021  8924  8827  8730\n",
       "3  9504  9408  9312  9216  9120  9024  8928  8832  8736  8640\n",
       "4  9405  9310  9215  9120  9025  8930  8835  8740  8645  8550\n",
       "5  9306  9212  9118  9024  8930  8836  8742  8648  8554  8460\n",
       "6  9207  9114  9021  8928  8835  8742  8649  8556  8463  8370\n",
       "7  9108  9016  8924  8832  8740  8648  8556  8464  8372  8280\n",
       "8  9009  8918  8827  8736  8645  8554  8463  8372  8281  8190\n",
       "9  8910  8820  8730  8640  8550  8460  8370  8280  8190  8100"
      ]
     },
     "execution_count": 62,
     "metadata": {},
     "output_type": "execute_result"
    }
   ],
   "source": [
    "df = pd.DataFrame(productsMatrix)\n",
    "df"
   ]
  },
  {
   "cell_type": "markdown",
   "metadata": {},
   "source": [
    "Another way to visualize this:"
   ]
  },
  {
   "cell_type": "code",
   "execution_count": 64,
   "metadata": {},
   "outputs": [
    {
     "data": {
      "text/plain": [
       "[99, 98, 97, 96, 95, 94, 93, 92, 91, 90]"
      ]
     },
     "execution_count": 64,
     "metadata": {},
     "output_type": "execute_result"
    }
   ],
   "source": [
    "products = [x for x in range(99, 89, -1)]\n",
    "products"
   ]
  },
  {
   "cell_type": "markdown",
   "metadata": {},
   "source": [
    "We can easily reproduce the table above using a for loop"
   ]
  },
  {
   "cell_type": "code",
   "execution_count": 80,
   "metadata": {},
   "outputs": [
    {
     "name": "stdout",
     "output_type": "stream",
     "text": [
      "[9801, 9702, 9603, 9504, 9405, 9306, 9207, 9108, 9009, 8910, 9702, 9604, 9506, 9408, 9310, 9212, 9114, 9016, 8918, 8820, 9603, 9506, 9409, 9312, 9215, 9118, 9021, 8924, 8827, 8730, 9504, 9408, 9312, 9216, 9120, 9024, 8928, 8832, 8736, 8640, 9405, 9310, 9215, 9120, 9025, 8930, 8835, 8740, 8645, 8550, 9306, 9212, 9118, 9024, 8930, 8836, 8742, 8648, 8554, 8460, 9207, 9114, 9021, 8928, 8835, 8742, 8649, 8556, 8463, 8370, 9108, 9016, 8924, 8832, 8740, 8648, 8556, 8464, 8372, 8280, 9009, 8918, 8827, 8736, 8645, 8554, 8463, 8372, 8281, 8190, 8910, 8820, 8730, 8640, 8550, 8460, 8370, 8280, 8190, 8100]\n"
     ]
    }
   ],
   "source": [
    "productsList = []\n",
    "for i in range(len(products)):\n",
    "    for j in range(len(products)):\n",
    "        product = products[i] * products[j]\n",
    "        productsList.append(product)\n",
    "    \n",
    "print(productsList)"
   ]
  },
  {
   "cell_type": "markdown",
   "metadata": {},
   "source": [
    "In both our code and table there are duplicated values. It's expected because we are multipling even when we change the order of factores, and we know the order of them doesn't change the output (1 x 2 = 2 x 1). Let's get rid of it"
   ]
  },
  {
   "cell_type": "code",
   "execution_count": 108,
   "metadata": {},
   "outputs": [
    {
     "name": "stdout",
     "output_type": "stream",
     "text": [
      "[9801, 9702, 9604, 9603, 9506, 9409, 9504, 9408, 9312, 9216, 9405, 9310, 9215, 9120, 9025, 9306, 9212, 9118, 9024, 8930, 8836, 9207, 9114, 9021, 8928, 8835, 8742, 8649, 9108, 9016, 8924, 8832, 8740, 8648, 8556, 8464, 9009, 8918, 8827, 8736, 8645, 8554, 8463, 8372, 8281, 8910, 8820, 8730, 8640, 8550, 8460, 8370, 8280, 8190, 8100]\n"
     ]
    }
   ],
   "source": [
    "productsList = []\n",
    "for i in range(len(products)):\n",
    "    for j in range(i + 1):\n",
    "        product = products[i] * products[j]\n",
    "        productsList.append(product)\n",
    "        \n",
    "print(productsList)"
   ]
  },
  {
   "cell_type": "markdown",
   "metadata": {},
   "source": [
    "## Finding the answer\n",
    "\n",
    "But now let's think about how to write code to translate all these ideas. \n",
    "\n",
    "I'm defining as 'epoch' every time, based on the table produced by productsMatrix, a new column is used to make a multiplication. The sum of row + col cannot exceed the value of the epoch.\n",
    "\n",
    "In epoch = 0, the only multiplication is between row = 0 x col = 0.\n",
    "In epoch = 1, row = 0, col = 1\n",
    "In epoch = 2, row = 1, col = 1; row = 0, col = 2. We choose this order because this is the descending order of values. \n",
    "The highest value to each epoch is the floor of each epoch divided by 2 plus 1. And this is equal to the num of iterations to each epoch\n",
    "\n",
    "Since we don't need to always iterate from the row 0 in the beginning of every epoch, we set two variables to hold who is the number we have to compute. So, the variable 'first' holds the floor of epoch divided by 2. The variable 'second' holds the value of epoch - first.\n",
    "\n",
    "All this logic makes us first compute the highest value for each epoch."
   ]
  },
  {
   "cell_type": "code",
   "execution_count": 203,
   "metadata": {},
   "outputs": [
    {
     "name": "stdout",
     "output_type": "stream",
     "text": [
      "The answer is: 906609\n"
     ]
    }
   ],
   "source": [
    "numList = [x for x in range(999, 0, -1)]\n",
    "result = 0\n",
    "epoch = 0\n",
    "found = False\n",
    "while not found:\n",
    "    numIterations = (epoch // 2) + 1\n",
    "    first = epoch // 2\n",
    "    for i in range(numIterations):\n",
    "        second = epoch - first\n",
    "        product = numList[first] * numList[second]\n",
    "        if isPalindrome(str(product)):\n",
    "            result = product\n",
    "            found = True\n",
    "            break\n",
    "            \n",
    "        first -= 1\n",
    "\n",
    "    epoch += 1\n",
    "\n",
    "print(\"The answer is:\", result)"
   ]
  },
  {
   "cell_type": "markdown",
   "metadata": {},
   "source": [
    "SPOILER ALERT: if you go to https://projecteuler.net/problem=4 and put this number as answer, you will find out our algorithm works!"
   ]
  },
  {
   "cell_type": "code",
   "execution_count": null,
   "metadata": {},
   "outputs": [],
   "source": []
  }
 ],
 "metadata": {
  "kernelspec": {
   "display_name": "Python 3",
   "language": "python",
   "name": "python3"
  },
  "language_info": {
   "codemirror_mode": {
    "name": "ipython",
    "version": 3
   },
   "file_extension": ".py",
   "mimetype": "text/x-python",
   "name": "python",
   "nbconvert_exporter": "python",
   "pygments_lexer": "ipython3",
   "version": "3.7.6"
  }
 },
 "nbformat": 4,
 "nbformat_minor": 4
}
